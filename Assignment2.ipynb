{
  "nbformat": 4,
  "nbformat_minor": 0,
  "metadata": {
    "colab": {
      "provenance": [],
      "authorship_tag": "ABX9TyMHbWytO1rcyH/2lqViFeF7",
      "include_colab_link": true
    },
    "kernelspec": {
      "name": "python3",
      "display_name": "Python 3"
    },
    "language_info": {
      "name": "python"
    }
  },
  "cells": [
    {
      "cell_type": "markdown",
      "metadata": {
        "id": "view-in-github",
        "colab_type": "text"
      },
      "source": [
        "<a href=\"https://colab.research.google.com/github/bhavithaJ/PDS-Assignments/blob/main/Assignment2.ipynb\" target=\"_parent\"><img src=\"https://colab.research.google.com/assets/colab-badge.svg\" alt=\"Open In Colab\"/></a>"
      ]
    },
    {
      "cell_type": "code",
      "execution_count": 27,
      "metadata": {
        "colab": {
          "base_uri": "https://localhost:8080/"
        },
        "id": "FOynglUrSkYC",
        "outputId": "cce15824-ce2d-4597-877f-6fce4221e490"
      },
      "outputs": [
        {
          "output_type": "stream",
          "name": "stdout",
          "text": [
            "Requirement already satisfied: pandas in /usr/local/lib/python3.10/dist-packages (2.2.2)\n",
            "Requirement already satisfied: numpy in /usr/local/lib/python3.10/dist-packages (1.26.4)\n",
            "Requirement already satisfied: python-dateutil>=2.8.2 in /usr/local/lib/python3.10/dist-packages (from pandas) (2.8.2)\n",
            "Requirement already satisfied: pytz>=2020.1 in /usr/local/lib/python3.10/dist-packages (from pandas) (2024.2)\n",
            "Requirement already satisfied: tzdata>=2022.7 in /usr/local/lib/python3.10/dist-packages (from pandas) (2024.2)\n",
            "Requirement already satisfied: six>=1.5 in /usr/local/lib/python3.10/dist-packages (from python-dateutil>=2.8.2->pandas) (1.16.0)\n"
          ]
        }
      ],
      "source": [
        "!pip install pandas numpy"
      ]
    },
    {
      "cell_type": "markdown",
      "source": [
        "##(a) Look for the missing values in all the columns and either impute them (replace with mean,median, or mode) or drop them.  "
      ],
      "metadata": {
        "id": "ihiRLe6qUtPB"
      }
    },
    {
      "cell_type": "code",
      "source": [
        "import pandas as pd\n",
        "\n",
        "# Load dataset\n",
        "df = pd.read_csv(\"/content/train (1).csv\")\n",
        "\n",
        "\n",
        "# Check for missing values\n",
        "missing_info = df.isnull().sum()\n",
        "print(\"Missing Values per Column:\\n\", missing_info)\n"
      ],
      "metadata": {
        "colab": {
          "base_uri": "https://localhost:8080/"
        },
        "id": "MSL3p8gyVsFv",
        "outputId": "231a16ba-0e1a-41f2-f6c2-6ff2c47ab665"
      },
      "execution_count": 28,
      "outputs": [
        {
          "output_type": "stream",
          "name": "stdout",
          "text": [
            "Missing Values per Column:\n",
            " Unnamed: 0              0\n",
            "Name                    0\n",
            "Location                0\n",
            "Year                    0\n",
            "Kilometers_Driven       0\n",
            "Fuel_Type               0\n",
            "Transmission            0\n",
            "Owner_Type              0\n",
            "Mileage                 2\n",
            "Engine                 36\n",
            "Power                  36\n",
            "Seats                  38\n",
            "New_Price            5032\n",
            "Price                   0\n",
            "dtype: int64\n"
          ]
        }
      ]
    },
    {
      "cell_type": "code",
      "source": [
        "# Decision on missing values:\n",
        "# Drop columns with too many missing values (e.g., New_Price).\n",
        "# Impute missing values in other columns:\n",
        "#  Use mode for categorical-like data (Mileage, Engine, Power).\n",
        "#  Use median for numerical data that could have higher variability (Seats).\n",
        "\n",
        "# Define a threshold for dropping columns (e.g., drop columns with more than 50% missing values)\n",
        "threshold = 0.5 * len(df)\n",
        "columns_to_drop = [col for col in df.columns if df[col].isnull().sum() > threshold]\n",
        "\n",
        "# Drop columns with too many missing values\n",
        "df.drop(columns=columns_to_drop, inplace=True)\n",
        "print(\"Columns dropped due to excessive missing values:\", columns_to_drop)\n",
        "\n",
        "# Impute missing values in remaining columns\n",
        "for column in df.columns:\n",
        "    if df[column].isnull().sum() > 0:\n",
        "        if df[column].dtype == 'object':  # Categorical-like columns\n",
        "            mode_value = df[column].mode()[0]\n",
        "            df[column] = df[column].fillna(mode_value)  # Fill with mode\n",
        "            print(f\"Imputed missing values in {column} with mode\")\n",
        "        else:  # Numerical columns\n",
        "            # Decide between mean or median based on data characteristics\n",
        "            mean_value = df[column].mean()\n",
        "            median_value = df[column].median()\n",
        "\n",
        "            # Choose mean if standard deviation is low, else median\n",
        "            if df[column].std() / mean_value < 0.1:  # Adjust threshold as needed\n",
        "                df[column] = df[column].fillna(mean_value)  # Fill with mean\n",
        "                print(f\"Imputed missing values in {column} with mean\")\n",
        "            else:\n",
        "                df[column] = df[column].fillna(median_value)  # Fill with median\n",
        "                print(f\"Imputed missing values in {column} with median\")\n",
        "print(\"Remaining missing values:\\n\", df.isnull().sum())\n"
      ],
      "metadata": {
        "colab": {
          "base_uri": "https://localhost:8080/"
        },
        "id": "inOZ2IqBWl4R",
        "outputId": "1c4814ca-ce96-43aa-d41d-4213fdc6634d"
      },
      "execution_count": 29,
      "outputs": [
        {
          "output_type": "stream",
          "name": "stdout",
          "text": [
            "Columns dropped due to excessive missing values: ['New_Price']\n",
            "Imputed missing values in Mileage with mode\n",
            "Imputed missing values in Engine with mode\n",
            "Imputed missing values in Power with mode\n",
            "Imputed missing values in Seats with median\n",
            "Remaining missing values:\n",
            " Unnamed: 0           0\n",
            "Name                 0\n",
            "Location             0\n",
            "Year                 0\n",
            "Kilometers_Driven    0\n",
            "Fuel_Type            0\n",
            "Transmission         0\n",
            "Owner_Type           0\n",
            "Mileage              0\n",
            "Engine               0\n",
            "Power                0\n",
            "Seats                0\n",
            "Price                0\n",
            "dtype: int64\n"
          ]
        }
      ]
    },
    {
      "cell_type": "markdown",
      "source": [
        "##Justify your action for this task\n",
        "1. Dropping Columns: If any column has more than 50% missing values, it is likely that these columns do not have enough data to be useful. Hence, dropping them might be the best choice.\n",
        "\n",
        "2. Imputation for Numerical Columns:\n",
        "\n",
        "   Mean: If the distribution is normal (low variance relative to the mean), we use the mean, as it represents the central tendency effectively.\n",
        "   \n",
        "   Median: If the column has high variability or is skewed, the median is used to avoid skewing the data with extreme values.\n",
        "\n",
        "3. Imputation for Categorical Columns:\n",
        "\n",
        "   Mode: For categorical variables, the most common value (mode) is used, as it maintains consistency within the categories."
      ],
      "metadata": {
        "id": "99wvS7asxOIG"
      }
    },
    {
      "cell_type": "markdown",
      "source": [
        "##(b)Remove the units from some of the attributes and only keep the numerical values (for example remove kmpl from “Mileage”, CC from “Engine”, bhp from “Power”, and lakh from “New_price”)."
      ],
      "metadata": {
        "id": "YDnfoqb9V7sa"
      }
    },
    {
      "cell_type": "code",
      "source": [
        "import pandas as pd\n",
        "import re\n",
        "def extract_numeric(value):\n",
        "    if pd.isna(value):  # Check if value is NaN\n",
        "        return None\n",
        "    return float(re.sub(r'[^0-9.]', '', value))  # Remove any non-numeric characters\n",
        "\n",
        "# Apply the extraction function to relevant columns\n",
        "if 'Mileage' in df.columns:\n",
        "    df['Mileage'] = df['Mileage'].apply(extract_numeric)\n",
        "\n",
        "if 'Engine' in df.columns:\n",
        "    df['Engine'] = df['Engine'].apply(extract_numeric)\n",
        "\n",
        "if 'Power' in df.columns:\n",
        "    df['Power'] = df['Power'].apply(extract_numeric)\n",
        "\n",
        "if 'New_price' in df.columns:\n",
        "    df['New_price'] = df['New_price'].apply(extract_numeric)\n",
        "\n",
        "# Display the cleaned dataset\n",
        "print(df.head())"
      ],
      "metadata": {
        "colab": {
          "base_uri": "https://localhost:8080/"
        },
        "id": "e-PFdbp9XZ9o",
        "outputId": "0752801b-0821-4185-8303-515813d53439"
      },
      "execution_count": 30,
      "outputs": [
        {
          "output_type": "stream",
          "name": "stdout",
          "text": [
            "   Unnamed: 0                              Name    Location  Year  \\\n",
            "0           1  Hyundai Creta 1.6 CRDi SX Option        Pune  2015   \n",
            "1           2                      Honda Jazz V     Chennai  2011   \n",
            "2           3                 Maruti Ertiga VDI     Chennai  2012   \n",
            "3           4   Audi A4 New 2.0 TDI Multitronic  Coimbatore  2013   \n",
            "4           6            Nissan Micra Diesel XV      Jaipur  2013   \n",
            "\n",
            "   Kilometers_Driven Fuel_Type Transmission Owner_Type  Mileage  Engine  \\\n",
            "0              41000    Diesel       Manual      First    19.67  1582.0   \n",
            "1              46000    Petrol       Manual      First    13.00  1199.0   \n",
            "2              87000    Diesel       Manual      First    20.77  1248.0   \n",
            "3              40670    Diesel    Automatic     Second    15.20  1968.0   \n",
            "4              86999    Diesel       Manual      First    23.08  1461.0   \n",
            "\n",
            "    Power  Seats  Price  \n",
            "0  126.20    5.0  12.50  \n",
            "1   88.70    5.0   4.50  \n",
            "2   88.76    7.0   6.00  \n",
            "3  140.80    5.0  17.74  \n",
            "4   63.10    5.0   3.50  \n"
          ]
        }
      ]
    },
    {
      "cell_type": "markdown",
      "source": [
        "##(c) Change the categorical variables (“Fuel_Type” and “Transmission”) into numerical one hot encoded value."
      ],
      "metadata": {
        "id": "fBjgvFHCYoII"
      }
    },
    {
      "cell_type": "code",
      "source": [
        "# One-hot encode 'Fuel_Type' and 'Transmission' columns\n",
        "df = pd.get_dummies(df, columns=['Fuel_Type', 'Transmission'], drop_first=True)\n",
        "\n",
        "# Display the transformed dataset\n",
        "print(df.head())"
      ],
      "metadata": {
        "colab": {
          "base_uri": "https://localhost:8080/"
        },
        "id": "OMJxtNivYnRs",
        "outputId": "79e9cc7a-0469-455a-e7bc-2a46d8e05274"
      },
      "execution_count": 31,
      "outputs": [
        {
          "output_type": "stream",
          "name": "stdout",
          "text": [
            "   Unnamed: 0                              Name    Location  Year  \\\n",
            "0           1  Hyundai Creta 1.6 CRDi SX Option        Pune  2015   \n",
            "1           2                      Honda Jazz V     Chennai  2011   \n",
            "2           3                 Maruti Ertiga VDI     Chennai  2012   \n",
            "3           4   Audi A4 New 2.0 TDI Multitronic  Coimbatore  2013   \n",
            "4           6            Nissan Micra Diesel XV      Jaipur  2013   \n",
            "\n",
            "   Kilometers_Driven Owner_Type  Mileage  Engine   Power  Seats  Price  \\\n",
            "0              41000      First    19.67  1582.0  126.20    5.0  12.50   \n",
            "1              46000      First    13.00  1199.0   88.70    5.0   4.50   \n",
            "2              87000      First    20.77  1248.0   88.76    7.0   6.00   \n",
            "3              40670     Second    15.20  1968.0  140.80    5.0  17.74   \n",
            "4              86999      First    23.08  1461.0   63.10    5.0   3.50   \n",
            "\n",
            "   Fuel_Type_Electric  Fuel_Type_Petrol  Transmission_Manual  \n",
            "0               False             False                 True  \n",
            "1               False              True                 True  \n",
            "2               False             False                 True  \n",
            "3               False             False                False  \n",
            "4               False             False                 True  \n"
          ]
        }
      ]
    },
    {
      "cell_type": "markdown",
      "source": [
        "##(d) Create one more feature and add this column to the dataset (you can use mutate function in R for this). For example, you can calculate the current age of the car by subtracting “Year” value from the current year."
      ],
      "metadata": {
        "id": "hDqkMf_xY-8D"
      }
    },
    {
      "cell_type": "code",
      "source": [
        "# Import the datetime module\n",
        "from datetime import datetime\n",
        "\n",
        "# Get the current year\n",
        "current_year = datetime.now().year\n",
        "\n",
        "# Calculate the age of the car and add it as a new column called 'Car_Age'\n",
        "df['Car_Age'] = current_year - df['Year']\n",
        "\n",
        "# Display the updated dataset with the new 'Car_Age' column\n",
        "print(df.head())"
      ],
      "metadata": {
        "colab": {
          "base_uri": "https://localhost:8080/"
        },
        "id": "08olHJhUZJKg",
        "outputId": "61eb018a-5741-42eb-fcd1-36ae8ca6a08e"
      },
      "execution_count": 32,
      "outputs": [
        {
          "output_type": "stream",
          "name": "stdout",
          "text": [
            "   Unnamed: 0                              Name    Location  Year  \\\n",
            "0           1  Hyundai Creta 1.6 CRDi SX Option        Pune  2015   \n",
            "1           2                      Honda Jazz V     Chennai  2011   \n",
            "2           3                 Maruti Ertiga VDI     Chennai  2012   \n",
            "3           4   Audi A4 New 2.0 TDI Multitronic  Coimbatore  2013   \n",
            "4           6            Nissan Micra Diesel XV      Jaipur  2013   \n",
            "\n",
            "   Kilometers_Driven Owner_Type  Mileage  Engine   Power  Seats  Price  \\\n",
            "0              41000      First    19.67  1582.0  126.20    5.0  12.50   \n",
            "1              46000      First    13.00  1199.0   88.70    5.0   4.50   \n",
            "2              87000      First    20.77  1248.0   88.76    7.0   6.00   \n",
            "3              40670     Second    15.20  1968.0  140.80    5.0  17.74   \n",
            "4              86999      First    23.08  1461.0   63.10    5.0   3.50   \n",
            "\n",
            "   Fuel_Type_Electric  Fuel_Type_Petrol  Transmission_Manual  Car_Age  \n",
            "0               False             False                 True        9  \n",
            "1               False              True                 True       13  \n",
            "2               False             False                 True       12  \n",
            "3               False             False                False       11  \n",
            "4               False             False                 True       11  \n"
          ]
        }
      ]
    },
    {
      "cell_type": "markdown",
      "source": [
        "##(e)  Perform select, filter, rename, mutate, arrange and summarize with group by operations (or their equivalent operations in python) on this dataset."
      ],
      "metadata": {
        "id": "gWlBVcBbZ3YB"
      }
    },
    {
      "cell_type": "code",
      "source": [
        "# 1. Select specific columns\n",
        "df_selected = df[['Name', 'Location', 'Year', 'Mileage', 'Kilometers_Driven', 'Owner_Type', 'Price']]\n",
        "\n",
        "# 2. Filter rows based on a condition (e.g., cars manufactured after 2015)\n",
        "df_filtered = df[df['Year'] > 2015]\n",
        "\n",
        "# 3. Rename columns for clarity (e.g., renaming 'Owner_Type' to 'Ownership')\n",
        "df_renamed = df_filtered.rename(columns={'Owner_Type': 'Ownership'})\n",
        "\n",
        "# 4. Mutate (create a new column) – adding 'Car_Age' as the car's current age\n",
        "current_year = pd.Timestamp.now().year\n",
        "df_renamed['Car_Age'] = current_year - df_renamed['Year']\n",
        "\n",
        "# 5. Arrange – sort by 'Price' in descending order\n",
        "df_arranged = df_renamed.sort_values(by='Price', ascending=False)\n",
        "\n",
        "# 6. Summarize with group by – calculate average price by 'Fuel_Type' (using one-hot encoded columns for fuel type)\n",
        "# First, we determine the fuel type based on the one-hot encoded columns\n",
        "df_arranged['Fuel_Type'] = df_arranged[['Fuel_Type_Electric', 'Fuel_Type_Petrol']].idxmax(axis=1)\n",
        "\n",
        "# Group by 'Fuel_Type' and calculate the average price\n",
        "df_summary = df_arranged.groupby('Fuel_Type').agg(Avg_Price=('Price', 'mean')).reset_index()\n",
        "\n",
        "# Display the final outputs for each step\n",
        "print(\"Selected Columns:\\n\", df_selected.head())\n",
        "print(\"\\nFiltered Rows:\\n\", df_filtered.head())\n",
        "print(\"\\nRenamed Columns:\\n\", df_renamed.head())\n",
        "print(\"\\nNew Column (Car_Age) Updated:\\n\", df_renamed[['Year', 'Car_Age']].head())\n",
        "print(\"\\nArranged by Price:\\n\", df_arranged[['Name', 'Location', 'Price']].head())\n",
        "print(\"\\nAverage Price by Fuel Type:\\n\", df_summary)\n"
      ],
      "metadata": {
        "colab": {
          "base_uri": "https://localhost:8080/"
        },
        "id": "QzRj1vTSux5u",
        "outputId": "a2053337-6fd4-4984-c98a-dbaeb5a220eb"
      },
      "execution_count": 33,
      "outputs": [
        {
          "output_type": "stream",
          "name": "stdout",
          "text": [
            "Selected Columns:\n",
            "                                Name    Location  Year  Mileage  \\\n",
            "0  Hyundai Creta 1.6 CRDi SX Option        Pune  2015    19.67   \n",
            "1                      Honda Jazz V     Chennai  2011    13.00   \n",
            "2                 Maruti Ertiga VDI     Chennai  2012    20.77   \n",
            "3   Audi A4 New 2.0 TDI Multitronic  Coimbatore  2013    15.20   \n",
            "4            Nissan Micra Diesel XV      Jaipur  2013    23.08   \n",
            "\n",
            "   Kilometers_Driven Owner_Type  Price  \n",
            "0              41000      First  12.50  \n",
            "1              46000      First   4.50  \n",
            "2              87000      First   6.00  \n",
            "3              40670     Second  17.74  \n",
            "4              86999      First   3.50  \n",
            "\n",
            "Filtered Rows:\n",
            "     Unnamed: 0                               Name Location  Year  \\\n",
            "5            7  Toyota Innova Crysta 2.8 GX AT 8S   Mumbai  2016   \n",
            "8           10                   Maruti Ciaz Zeta    Kochi  2018   \n",
            "14          16              Honda Amaze S i-Dtech    Kochi  2016   \n",
            "15          17              Maruti Swift DDiS VDI   Jaipur  2017   \n",
            "26          28                Honda WRV i-VTEC VX    Kochi  2018   \n",
            "\n",
            "    Kilometers_Driven Owner_Type  Mileage  Engine   Power  Seats  Price  \\\n",
            "5               36000      First    11.36  2755.0  171.50    8.0  17.50   \n",
            "8               25692      First    21.56  1462.0  103.25    5.0   9.95   \n",
            "14              58950      First    25.80  1498.0   98.60    5.0   5.40   \n",
            "15              25000      First    28.40  1248.0   74.00    5.0   5.99   \n",
            "26              37430      First    17.50  1199.0   88.70    5.0   9.90   \n",
            "\n",
            "    Fuel_Type_Electric  Fuel_Type_Petrol  Transmission_Manual  Car_Age  \n",
            "5                False             False                False        8  \n",
            "8                False              True                 True        6  \n",
            "14               False             False                 True        8  \n",
            "15               False             False                 True        7  \n",
            "26               False              True                 True        6  \n",
            "\n",
            "Renamed Columns:\n",
            "     Unnamed: 0                               Name Location  Year  \\\n",
            "5            7  Toyota Innova Crysta 2.8 GX AT 8S   Mumbai  2016   \n",
            "8           10                   Maruti Ciaz Zeta    Kochi  2018   \n",
            "14          16              Honda Amaze S i-Dtech    Kochi  2016   \n",
            "15          17              Maruti Swift DDiS VDI   Jaipur  2017   \n",
            "26          28                Honda WRV i-VTEC VX    Kochi  2018   \n",
            "\n",
            "    Kilometers_Driven Ownership  Mileage  Engine   Power  Seats  Price  \\\n",
            "5               36000     First    11.36  2755.0  171.50    8.0  17.50   \n",
            "8               25692     First    21.56  1462.0  103.25    5.0   9.95   \n",
            "14              58950     First    25.80  1498.0   98.60    5.0   5.40   \n",
            "15              25000     First    28.40  1248.0   74.00    5.0   5.99   \n",
            "26              37430     First    17.50  1199.0   88.70    5.0   9.90   \n",
            "\n",
            "    Fuel_Type_Electric  Fuel_Type_Petrol  Transmission_Manual  Car_Age  \n",
            "5                False             False                False        8  \n",
            "8                False              True                 True        6  \n",
            "14               False             False                 True        8  \n",
            "15               False             False                 True        7  \n",
            "26               False              True                 True        6  \n",
            "\n",
            "New Column (Car_Age) Updated:\n",
            "     Year  Car_Age\n",
            "5   2016        8\n",
            "8   2018        6\n",
            "14  2016        8\n",
            "15  2017        7\n",
            "26  2018        6\n",
            "\n",
            "Arranged by Price:\n",
            "                                              Name    Location   Price\n",
            "3952  Land Rover Range Rover 3.0 Diesel LWB Vogue   Hyderabad  160.00\n",
            "1457              Land Rover Range Rover Sport SE       Kochi   97.07\n",
            "1917                           BMW 7 Series 740Li  Coimbatore   93.67\n",
            "1927                           BMW 7 Series 740Li   Bangalore   93.00\n",
            "2035                     Mercedes-Benz SLC 43 AMG  Coimbatore   83.96\n",
            "\n",
            "Average Price by Fuel Type:\n",
            "             Fuel_Type  Avg_Price\n",
            "0  Fuel_Type_Electric  18.484468\n",
            "1    Fuel_Type_Petrol   8.131137\n"
          ]
        }
      ]
    }
  ]
}